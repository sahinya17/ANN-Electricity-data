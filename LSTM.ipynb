{
  "nbformat": 4,
  "nbformat_minor": 0,
  "metadata": {
    "colab": {
      "provenance": [],
      "collapsed_sections": [],
      "authorship_tag": "ABX9TyM2rLX0yCNY2RO5seBGsbrB",
      "include_colab_link": true
    },
    "kernelspec": {
      "name": "python3",
      "display_name": "Python 3"
    },
    "language_info": {
      "name": "python"
    }
  },
  "cells": [
    {
      "cell_type": "markdown",
      "metadata": {
        "id": "view-in-github",
        "colab_type": "text"
      },
      "source": [
        "<a href=\"https://colab.research.google.com/github/sahinya17/ANN-Electricity-data/blob/main/LSTM.ipynb\" target=\"_parent\"><img src=\"https://colab.research.google.com/assets/colab-badge.svg\" alt=\"Open In Colab\"/></a>"
      ]
    },
    {
      "cell_type": "code",
      "execution_count": 2,
      "metadata": {
        "id": "meHf_JzC7B74"
      },
      "outputs": [],
      "source": [
        "%load_ext rpy2.ipython"
      ]
    },
    {
      "cell_type": "code",
      "source": [
        "%%R\n",
        "# install.packages(\"keras\")\n",
        "# install.packages(\"tensorflow\")\n",
        "# library(tensorflow)\n",
        "# install_tensorflow(method = \"auto\")\n",
        "\n",
        "# library(keras)\n",
        "# install_keras(method = c(\"conda\"), conda = \"auto\", tensorflow = \"default\",\n",
        "#               extra_packages = c(\"tensorflow-hub\"))\n",
        "\n",
        "# install.packages(\"tidyverse\")\n",
        "# install.packages(\"DataExplorer\")\n",
        "# install.packages(\"caret\")\n",
        "# install.packages(\"tidyr\")"
      ],
      "metadata": {
        "id": "4U4FmfHm7JM4",
        "colab": {
          "base_uri": "https://localhost:8080/"
        },
        "outputId": "001c448c-a88d-43f4-ec81-56aa3462cce1"
      },
      "execution_count": 3,
      "outputs": [
        {
          "output_type": "stream",
          "name": "stdout",
          "text": [
            "NULL\n"
          ]
        }
      ]
    },
    {
      "cell_type": "code",
      "source": [
        "%%R\n",
        "library(tidyverse)\n",
        "library(DataExplorer)\n",
        "library(tensorflow)\n",
        "library(keras)\n",
        "library(caret)\n",
        "library(tidyr)"
      ],
      "metadata": {
        "id": "aUlAy_Ya7Oqk",
        "colab": {
          "base_uri": "https://localhost:8080/"
        },
        "outputId": "3f236c24-2ca9-4e9a-9234-1ab63231da89"
      },
      "execution_count": 4,
      "outputs": [
        {
          "output_type": "stream",
          "name": "stdout",
          "text": [
            "── Attaching packages ─────────────────────────────────────── tidyverse 1.3.2 ──\n",
            "✔ ggplot2 3.3.6      ✔ purrr   0.3.4 \n",
            "✔ tibble  3.1.7      ✔ dplyr   1.0.10\n",
            "✔ tidyr   1.2.1      ✔ stringr 1.4.1 \n",
            "✔ readr   2.1.3      ✔ forcats 0.5.2 \n",
            "── Conflicts ────────────────────────────────────────── tidyverse_conflicts() ──\n",
            "✖ dplyr::filter() masks stats::filter()\n",
            "✖ dplyr::lag()    masks stats::lag()\n"
          ]
        },
        {
          "output_type": "stream",
          "name": "stderr",
          "text": [
            "WARNING:rpy2.rinterface_lib.callbacks:R[write to console]: Loading required package: lattice\n",
            "\n",
            "WARNING:rpy2.rinterface_lib.callbacks:R[write to console]: \n",
            "Attaching package: ‘caret’\n",
            "\n",
            "\n",
            "WARNING:rpy2.rinterface_lib.callbacks:R[write to console]: The following object is masked from ‘package:tensorflow’:\n",
            "\n",
            "    train\n",
            "\n",
            "\n",
            "WARNING:rpy2.rinterface_lib.callbacks:R[write to console]: The following object is masked from ‘package:purrr’:\n",
            "\n",
            "    lift\n",
            "\n",
            "\n"
          ]
        }
      ]
    },
    {
      "cell_type": "code",
      "source": [
        "%%R\n",
        "# convert an array of values into a dataset matrix\n",
        "create_dataset <- function(dataset, look_back = 1){\n",
        "    dataX = array(0, dim = c(length(dataset)-look_back-1, look_back))\n",
        "    dataY = array(0, dim = length(dataset)-look_back-1)\n",
        "    for (i in 1:(length(dataset)-look_back-1)){\n",
        "        a <- dataset[i:(i + look_back -1)]\n",
        "        dataX[i, ] <- a\n",
        "        dataY[i] <- dataset[i+look_back]\n",
        "    }\n",
        "    return (list(dataX, dataY))\n",
        "}\n",
        "\n",
        "# fix random seed for reproducibility\n",
        "set.seed(7)\n",
        "\n",
        "# load the dataset\n",
        "dataframe = read.csv(\"Electricity_data_Poland.csv\") %>% select(totalLoad)  %>% \n",
        "mutate(totalLoad = as.numeric(totalLoad))\n",
        "dataframe = dataframe %>% fill(totalLoad)\n",
        "dataset = as.matrix(dataframe[,1])"
      ],
      "metadata": {
        "id": "ou82V0--7Reu"
      },
      "execution_count": 5,
      "outputs": []
    },
    {
      "cell_type": "code",
      "source": [
        "%%R\n",
        "# normalize the dataset\n",
        "normalize <- function(x, na.rm = TRUE) {\n",
        "    return((x- min(x)) /(max(x)-min(x)))\n",
        "}\n",
        "denormalize <- function(x, min, max){\n",
        "    return(x * (max - min) + min)\n",
        "}\n",
        "min = min(dataset)\n",
        "max = max(dataset)\n",
        "dataset <- normalize(dataset)"
      ],
      "metadata": {
        "id": "VQ6ZRLA26iJP"
      },
      "execution_count": 6,
      "outputs": []
    },
    {
      "cell_type": "code",
      "source": [
        "%%R\n",
        "# split into train and test sets\n",
        "train_size = length(dataset) * 0.67\n",
        "test_size = length(dataset) - train_size\n",
        "train = as.matrix(dataset[0:train_size])\n",
        "test = as.matrix(dataset[train_size:length(dataset)])"
      ],
      "metadata": {
        "id": "Z_7QCLQz7onS"
      },
      "execution_count": 7,
      "outputs": []
    },
    {
      "cell_type": "code",
      "source": [
        "%%R\n",
        "look_back = 365\n",
        "train_data = create_dataset(train, look_back)\n",
        "test_data = create_dataset(test, look_back)\n",
        "trainX = train_data[[1]]\n",
        "trainY = train_data[[2]]\n",
        "testX = test_data[[1]]\n",
        "testY = test_data[[2]]"
      ],
      "metadata": {
        "id": "kEof8So1JW0m"
      },
      "execution_count": 8,
      "outputs": []
    },
    {
      "cell_type": "code",
      "source": [
        "%%R\n",
        "# reshape input to be [samples, time steps, features]\n",
        "dim(trainX) = c(dim(trainX)[1], 1, dim(trainX)[2])\n",
        "dim(testX) = c(dim(testX)[1], 1, dim(testX)[2])"
      ],
      "metadata": {
        "id": "SE-VBQx6RJv-"
      },
      "execution_count": 9,
      "outputs": []
    },
    {
      "cell_type": "code",
      "source": [
        "%%R\n",
        "# create and fit the LSTM network\n",
        "model <- keras_model_sequential() \n",
        "model %>% \n",
        "  layer_lstm(units = 4, input_shape=c(1, look_back)) %>% \n",
        "  layer_dense(units = 1, activation = 'relu') %>% \n",
        "  compile(optimizer = 'adam', loss = 'mean_squared_error')\n",
        "\n",
        "history <- model %>% fit(trainX, trainY, epochs=1, batch_size=1)"
      ],
      "metadata": {
        "colab": {
          "base_uri": "https://localhost:8080/"
        },
        "id": "6xF9HuygO-MW",
        "outputId": "447960b6-90e6-462a-d947-b03e52405025"
      },
      "execution_count": 10,
      "outputs": [
        {
          "output_type": "stream",
          "name": "stderr",
          "text": [
            "WARNING:rpy2.rinterface_lib.callbacks:R[write to console]: Loaded Tensorflow version 2.9.2\n",
            "\n"
          ]
        },
        {
          "output_type": "stream",
          "name": "stdout",
          "text": [
            "40750/40750 [==============================] - 100s 2ms/step - loss: 0.0020\n",
            "40750/40750 [==============================] - 100s 2ms/step - loss: 0.0020\n"
          ]
        }
      ]
    },
    {
      "cell_type": "code",
      "source": [
        "%%R\n",
        "plot(history)"
      ],
      "metadata": {
        "id": "m6cLxNffN_Ps",
        "colab": {
          "base_uri": "https://localhost:8080/",
          "height": 497
        },
        "outputId": "93f47ede-332c-4af7-d391-73dc31c615c3"
      },
      "execution_count": 11,
      "outputs": [
        {
          "output_type": "display_data",
          "data": {
            "image/png": "[encoded data removed]"
          },
          "metadata": {}
        }
      ]
    },
    {
      "cell_type": "code",
      "source": [
        "%%R\n",
        "# make predictions\n",
        "trainPredict = model %>% predict(trainX)\n",
        "testPredict = model %>% predict(testX)"
      ],
      "metadata": {
        "colab": {
          "base_uri": "https://localhost:8080/"
        },
        "id": "4zK93mEMksuk",
        "outputId": "4fb3ffe0-b088-471e-edd3-6715ed3414bc"
      },
      "execution_count": 12,
      "outputs": [
        {
          "output_type": "stream",
          "name": "stdout",
          "text": [
            "1274/1274 [==============================] - 2s 1ms/step\n",
            "1274/1274 [==============================] - 2s 1ms/step\n",
            "622/622 [==============================] - 1s 1ms/step\n",
            "622/622 [==============================] - 1s 1ms/step\n"
          ]
        }
      ]
    },
    {
      "cell_type": "code",
      "source": [
        "%%R\n",
        "# invert predictions\n",
        "trainPredict = denormalize(trainPredict, min, max)\n",
        "trainY = denormalize(trainY, min, max)\n",
        "testPredict = denormalize(testPredict, min, max)\n",
        "testY = denormalize(testY, min, max)"
      ],
      "metadata": {
        "id": "_wmlHYFxlTYs"
      },
      "execution_count": 13,
      "outputs": []
    },
    {
      "cell_type": "code",
      "source": [
        "%%R\n",
        "str(trainY)\n",
        "str(trainPredict[,1])"
      ],
      "metadata": {
        "colab": {
          "base_uri": "https://localhost:8080/"
        },
        "id": "Pnk8O_KzsagG",
        "outputId": "7993b8e9-06c1-4629-f0af-79fa70b64cb9"
      },
      "execution_count": 14,
      "outputs": [
        {
          "output_type": "stream",
          "name": "stdout",
          "text": [
            " num [1:40750(1d)] 20115 21594 22076 22297 22128 ...\n",
            " num [1:40750] 19152 21201 22274 22774 22953 ...\n"
          ]
        }
      ]
    },
    {
      "cell_type": "code",
      "source": [
        "%%R\n",
        "# calculate root mean squared error\n",
        "mean_squared_error <- function(x, y){\n",
        "    mean((x - y)^2)\n",
        "}\n",
        "# calculate root mean squared error\n",
        "trainScore = sqrt(mean_squared_error(trainY, trainPredict[,1]))\n",
        "print(paste0('Train Score: ', trainScore, ' RMSE'))\n",
        "testScore = sqrt(mean_squared_error(testY, testPredict[,1]))\n",
        "print(paste0('Test Score: ', testScore, ' RMSE'))"
      ],
      "metadata": {
        "colab": {
          "base_uri": "https://localhost:8080/"
        },
        "id": "38wgAwqhnC2L",
        "outputId": "a156c012-0e85-4f02-9827-475e98a9ff70"
      },
      "execution_count": 15,
      "outputs": [
        {
          "output_type": "stream",
          "name": "stdout",
          "text": [
            "[1] \"Train Score: 434.260393130935 RMSE\"\n",
            "[1] \"Test Score: 489.460734931975 RMSE\"\n"
          ]
        }
      ]
    },
    {
      "cell_type": "code",
      "source": [
        "%%R\n",
        "library(ggplot2)\n",
        "trainPredict = as.data.frame(trainPredict)\n",
        "plot_full_data <- as.data.frame(denormalize(dataset, min, max))\n",
        "trainY = as.data.frame(trainY)\n",
        "colnames(trainY) <- 'V1'\n",
        "ggplot(trainPredict, aes(x = 1:nrow(trainPredict))) +\n",
        "  geom_line(aes(y = V1, color = 'blue'), group = 1) +\n",
        "  geom_line(aes(y = trainY$V1, color = 'red'),group = 1)"
      ],
      "metadata": {
        "id": "GvYAtEfFrtJw",
        "colab": {
          "base_uri": "https://localhost:8080/",
          "height": 497
        },
        "outputId": "ccefcc68-b1d5-43c9-f11f-d41cb27ae899"
      },
      "execution_count": 16,
      "outputs": [
        {
          "output_type": "display_data",
          "data": {
            "image/png": "[encoded data removed]"
          },
          "metadata": {}
        }
      ]
    },
    {
      "cell_type": "code",
      "source": [
        "%%R\n",
        "testPredict = as.data.frame(testPredict)\n",
        "colnames(testPredict) <- 'V1'\n",
        "# plot_full_data <- as.data.frame(denormalize(dataset, min, max))\n",
        "# trainY = as.data.frame(trainY)\n",
        "# colnames(trainY) <- 'V1'\n",
        "# ggplot(testPredict, aes(x = 1:nrow(testPredict))) +\n",
        "#   geom_line(aes(y = V1, color = 'blue'), group = 1) \n",
        "  # +\n",
        "  # geom_line(aes(y = trainY$V1, color = 'red'),group = 1)"
      ],
      "metadata": {
        "id": "BWmg9GiuYKKS"
      },
      "execution_count": 17,
      "outputs": []
    },
    {
      "cell_type": "code",
      "source": [
        "%%R\n",
        "ggplot(testPredict, aes(x = 1:nrow(testPredict))) +\n",
        "geom_line(aes(y = V1, color = 'blue'), group = 1)"
      ],
      "metadata": {
        "id": "ZtyqhIjFZM1c"
      },
      "execution_count": null,
      "outputs": []
    },
    {
      "cell_type": "code",
      "source": [],
      "metadata": {
        "id": "TSpsFtR3mhjK"
      },
      "execution_count": null,
      "outputs": []
    }
  ]
}