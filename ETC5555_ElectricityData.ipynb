{
  "nbformat": 4,
  "nbformat_minor": 0,
  "metadata": {
    "colab": {
      "provenance": [],
      "collapsed_sections": [],
      "authorship_tag": "ABX9TyMz/NF2b4BeM/msQhWmSJTD",
      "include_colab_link": true
    },
    "kernelspec": {
      "name": "python3",
      "display_name": "Python 3"
    },
    "language_info": {
      "name": "python"
    }
  },
  "cells": [
    {
      "cell_type": "markdown",
      "metadata": {
        "id": "view-in-github",
        "colab_type": "text"
      },
      "source": [
        "<a href=\"https://colab.research.google.com/github/sahinya17/ANN-Electricity-data/blob/main/ETC5555_ElectricityData.ipynb\" target=\"_parent\"><img src=\"https://colab.research.google.com/assets/colab-badge.svg\" alt=\"Open In Colab\"/></a>"
      ]
    },
    {
      "cell_type": "code",
      "execution_count": 1,
      "metadata": {
        "id": "WdLyhtAZ4Q-M"
      },
      "outputs": [],
      "source": [
        "%load_ext rpy2.ipython"
      ]
    },
    {
      "cell_type": "code",
      "source": [
        "%%R\n",
        "install.packages(\"keras\")\n",
        "install.packages(\"tensorflow\")\n",
        "library(tensorflow)\n",
        "install_tensorflow(method = \"auto\")\n",
        "\n",
        "library(keras)\n",
        "install_keras(method = c(\"conda\"), conda = \"auto\", tensorflow = \"default\",\n",
        "              extra_packages = c(\"tensorflow-hub\"))\n",
        "\n",
        "install.packages(\"tidyverse\")\n",
        "install.packages(\"DataExplorer\")\n",
        "install.packages(\"caret\")"
      ],
      "metadata": {
        "id": "6_TmA6Bm4efH"
      },
      "execution_count": null,
      "outputs": []
    },
    {
      "cell_type": "code",
      "source": [
        "%%R\n",
        "library(tidyverse)\n",
        "library(DataExplorer)\n",
        "library(tensorflow)\n",
        "library(keras)\n",
        "library(caret)"
      ],
      "metadata": {
        "colab": {
          "base_uri": "https://localhost:8080/"
        },
        "id": "MDJgxtzD4ZZo",
        "outputId": "31c265b6-aa03-458a-8c87-2e51341db0a0"
      },
      "execution_count": 2,
      "outputs": [
        {
          "output_type": "stream",
          "name": "stdout",
          "text": [
            "── Attaching packages ─────────────────────────────────────── tidyverse 1.3.2 ──\n",
            "✔ ggplot2 3.3.6      ✔ purrr   0.3.4 \n",
            "✔ tibble  3.1.7      ✔ dplyr   1.0.10\n",
            "✔ tidyr   1.2.1      ✔ stringr 1.4.1 \n",
            "✔ readr   2.1.3      ✔ forcats 0.5.2 \n",
            "── Conflicts ────────────────────────────────────────── tidyverse_conflicts() ──\n",
            "✖ dplyr::filter() masks stats::filter()\n",
            "✖ dplyr::lag()    masks stats::lag()\n"
          ]
        },
        {
          "output_type": "stream",
          "name": "stderr",
          "text": [
            "WARNING:rpy2.rinterface_lib.callbacks:R[write to console]: Loading required package: lattice\n",
            "\n",
            "WARNING:rpy2.rinterface_lib.callbacks:R[write to console]: \n",
            "Attaching package: ‘caret’\n",
            "\n",
            "\n",
            "WARNING:rpy2.rinterface_lib.callbacks:R[write to console]: The following object is masked from ‘package:tensorflow’:\n",
            "\n",
            "    train\n",
            "\n",
            "\n",
            "WARNING:rpy2.rinterface_lib.callbacks:R[write to console]: The following object is masked from ‘package:purrr’:\n",
            "\n",
            "    lift\n",
            "\n",
            "\n"
          ]
        }
      ]
    },
    {
      "cell_type": "code",
      "source": [
        "%%R\n",
        "\n",
        "data <- read.csv(\"Electricity_data_Poland.csv\") %>% select(!X)\n",
        "\n",
        "nnet_data <- data %>% \n",
        "  separate(time, into = c(\"time_from\", \"time_to\"), sep = \" - \") %>% \n",
        "  mutate(time_from = as.factor(time_from),\n",
        "         Date = as.Date(Date, format = \"%d-%m-%Y\"),\n",
        "         totalLoad = as.numeric(totalLoad))\n",
        "  \n",
        "nnet_data[rowSums(is.na(nnet_data)) > 0,\"totalLoad\"] <- nnet_data[(which(is.na(nnet_data), arr.ind=TRUE)[1,1])-1,\"totalLoad\"]"
      ],
      "metadata": {
        "id": "lE3bygoI6uco"
      },
      "execution_count": 4,
      "outputs": []
    },
    {
      "cell_type": "code",
      "source": [
        "%%R\n",
        "nnet_data <- data.matrix(nnet_data[,'totalLoad'])\n",
        "\n",
        "train_data <- nnet_data[1:30000,]\n",
        "mean <- mean(train_data)\n",
        "std <- sd(train_data)\n",
        "nnet_data <- scale(nnet_data, center = mean, scale = std)"
      ],
      "metadata": {
        "id": "FIudiPV68L6D"
      },
      "execution_count": 6,
      "outputs": []
    },
    {
      "cell_type": "code",
      "source": [
        "%%R\n",
        "generator <- function(data, lookback, delay, min_index, max_index,\n",
        "                      shuffle = FALSE, batch_size = 128, step = 1) {\n",
        "  if (is.null(max_index))\n",
        "    max_index <- nrow(data) - delay - 1\n",
        "  i <- min_index + lookback\n",
        "  function() {\n",
        "    if (shuffle) {\n",
        "      rows <- sample(c((min_index+lookback):max_index), size = batch_size)\n",
        "    } else {\n",
        "      if (i + batch_size >= max_index)\n",
        "        i <<- min_index + lookback\n",
        "      rows <- c(i:min(i+batch_size-1, max_index))\n",
        "      i <<- i + length(rows)\n",
        "    }\n",
        "\n",
        "    samples <- array(0, dim = c(length(rows),\n",
        "                                lookback / step,\n",
        "                                dim(data)[[-1]]))\n",
        "    targets <- array(0, dim = c(length(rows)))\n",
        "                      \n",
        "    for (j in 1:length(rows)) {\n",
        "      indices <- seq(rows[[j]] - lookback, rows[[j]]-1,\n",
        "                     length.out = dim(samples)[[2]])\n",
        "      samples[j,,] <- data[indices,]\n",
        "      targets[[j]] <- data[rows[[j]] + delay,]\n",
        "    }           \n",
        "    list(samples, targets)\n",
        "  }\n",
        "}"
      ],
      "metadata": {
        "id": "VWJgej7g9Rg-"
      },
      "execution_count": 7,
      "outputs": []
    },
    {
      "cell_type": "code",
      "source": [
        "%%R\n",
        "lookback <- 240\n",
        "step <- 1\n",
        "delay <- 24\n",
        "batch_size <- 128\n",
        "\n",
        "train_gen <- generator(\n",
        "  nnet_data,\n",
        "  lookback = lookback,\n",
        "  delay = delay,\n",
        "  min_index = 1,\n",
        "  max_index = 30000,\n",
        "  shuffle = FALSE,\n",
        "  step = step, \n",
        "  batch_size = batch_size\n",
        ")\n",
        "\n",
        "val_gen = generator(\n",
        "  nnet_data,\n",
        "  lookback = lookback,\n",
        "  delay = delay,\n",
        "  min_index = 30001,\n",
        "  max_index = 40000,\n",
        "  step = step,\n",
        "  batch_size = batch_size\n",
        ")\n",
        "\n",
        "test_gen <- generator(\n",
        "  nnet_data,\n",
        "  lookback = lookback,\n",
        "  delay = delay,\n",
        "  min_index = 40001,\n",
        "  max_index = NULL,\n",
        "  step = step,\n",
        "  batch_size = batch_size\n",
        ")\n"
      ],
      "metadata": {
        "id": "knt-iwb79hgZ"
      },
      "execution_count": 8,
      "outputs": []
    },
    {
      "cell_type": "code",
      "source": [
        "%%R\n",
        "# How many steps to draw from val_gen in order to see the entire validation set\n",
        "val_steps <- (40000 - 30001 - lookback) / batch_size\n",
        "\n",
        "# How many steps to draw from test_gen in order to see the entire test set\n",
        "test_steps <- (nrow(nnet_data) - 40001 - lookback) / batch_size"
      ],
      "metadata": {
        "id": "jc7NMMg_-Ghr"
      },
      "execution_count": 9,
      "outputs": []
    },
    {
      "cell_type": "code",
      "source": [
        "%%R\n",
        "evaluate_naive_method <- function() {\n",
        "  batch_maes <- c()\n",
        "  for (step in 1:val_steps) {\n",
        "    c(samples, targets) %<-% val_gen()\n",
        "    preds <- samples[,dim(samples)[[2]],]\n",
        "    mae <- mean(abs(preds - targets))\n",
        "    batch_maes <- c(batch_maes, mae)\n",
        "  }\n",
        "  print(mean(batch_maes))\n",
        "}\n",
        "\n",
        "evaluate_naive_method() "
      ],
      "metadata": {
        "colab": {
          "base_uri": "https://localhost:8080/"
        },
        "id": "7GLYyJI__Pj1",
        "outputId": "1eabfd4c-a951-48d2-bd3c-2191d751f244"
      },
      "execution_count": 10,
      "outputs": [
        {
          "output_type": "stream",
          "name": "stdout",
          "text": [
            "[1] 0.5516784\n"
          ]
        }
      ]
    },
    {
      "cell_type": "code",
      "source": [
        "%%R\n",
        "model <- keras_model_sequential() %>% \n",
        "  layer_flatten(input_shape = c(lookback / step, dim(nnet_data)[-1])) %>% \n",
        "  layer_dense(units = 128, activation = \"relu\") %>% \n",
        "  layer_dense(units = 1)\n",
        "\n",
        "model %>% compile(\n",
        "  optimizer = optimizer_rmsprop(),\n",
        "  loss = \"mae\"\n",
        ")\n",
        "\n",
        "history <- model %>% fit_generator(\n",
        "  train_gen,\n",
        "  steps_per_epoch = 500,\n",
        "  epochs = 20,\n",
        "  validation_data = val_gen,\n",
        "  validation_steps = val_steps\n",
        ")"
      ],
      "metadata": {
        "id": "KLlByX7hFHK0"
      },
      "execution_count": null,
      "outputs": []
    },
    {
      "cell_type": "code",
      "source": [
        "%%R\n",
        "plot(history)"
      ],
      "metadata": {
        "id": "Z31s-p3UHlWM"
      },
      "execution_count": null,
      "outputs": []
    }
  ]
}