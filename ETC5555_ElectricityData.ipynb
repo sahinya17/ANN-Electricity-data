{
  "nbformat": 4,
  "nbformat_minor": 0,
  "metadata": {
    "colab": {
      "provenance": [],
      "collapsed_sections": [],
      "authorship_tag": "ABX9TyNbYOEOuQL0JxgIecMMOhT+",
      "include_colab_link": true
    },
    "kernelspec": {
      "name": "python3",
      "display_name": "Python 3"
    },
    "language_info": {
      "name": "python"
    }
  },
  "cells": [
    {
      "cell_type": "markdown",
      "metadata": {
        "id": "view-in-github",
        "colab_type": "text"
      },
      "source": [
        "<a href=\"https://colab.research.google.com/github/sahinya17/ANN-Electricity-data/blob/main/ETC5555_ElectricityData.ipynb\" target=\"_parent\"><img src=\"https://colab.research.google.com/assets/colab-badge.svg\" alt=\"Open In Colab\"/></a>"
      ]
    },
    {
      "cell_type": "code",
      "execution_count": 7,
      "metadata": {
        "colab": {
          "base_uri": "https://localhost:8080/"
        },
        "id": "WdLyhtAZ4Q-M",
        "outputId": "dcf8314c-55ff-413f-f575-c18e7dcedc33"
      },
      "outputs": [
        {
          "output_type": "stream",
          "name": "stdout",
          "text": [
            "The rpy2.ipython extension is already loaded. To reload it, use:\n",
            "  %reload_ext rpy2.ipython\n"
          ]
        }
      ],
      "source": [
        "%load_ext rpy2.ipython"
      ]
    },
    {
      "cell_type": "code",
      "source": [
        "%%R\n",
        "# install.packages(\"keras\")\n",
        "# install.packages(\"tensorflow\")\n",
        "# library(tensorflow)\n",
        "# install_tensorflow(method = \"auto\")\n",
        "\n",
        "# library(keras)\n",
        "# install_keras(method = c(\"conda\"), conda = \"auto\", tensorflow = \"default\",\n",
        "#               extra_packages = c(\"tensorflow-hub\"))\n",
        "\n",
        "# install.packages(\"tidyverse\")\n",
        "# install.packages(\"DataExplorer\")\n",
        "# install.packages(\"caret\")"
      ],
      "metadata": {
        "colab": {
          "base_uri": "https://localhost:8080/"
        },
        "id": "6_TmA6Bm4efH",
        "outputId": "157019c1-c8ad-4e78-b211-6281e3c664fd"
      },
      "execution_count": 8,
      "outputs": [
        {
          "output_type": "stream",
          "name": "stdout",
          "text": [
            "NULL\n"
          ]
        }
      ]
    },
    {
      "cell_type": "code",
      "source": [
        "%%R\n",
        "library(tidyverse)\n",
        "library(DataExplorer)\n",
        "library(tensorflow)\n",
        "library(keras)\n",
        "library(caret)"
      ],
      "metadata": {
        "id": "MDJgxtzD4ZZo"
      },
      "execution_count": 9,
      "outputs": []
    },
    {
      "cell_type": "code",
      "source": [
        "%%R\n",
        "\n",
        "data <- read.csv(\"Electricity_data_Poland.csv\") %>% select(!X)\n",
        "\n",
        "nnet_data <- data %>% \n",
        "  separate(time, into = c(\"time_from\", \"time_to\"), sep = \" - \") %>% \n",
        "  mutate(time_from = as.factor(time_from),\n",
        "         Date = as.Date(Date, format = \"%d-%m-%Y\"),\n",
        "         totalLoad = as.numeric(totalLoad))\n",
        "  \n",
        "nnet_data[rowSums(is.na(nnet_data)) > 0,\"totalLoad\"] <- nnet_data[(which(is.na(nnet_data), arr.ind=TRUE)[1,1])-1,\"totalLoad\"]"
      ],
      "metadata": {
        "id": "lE3bygoI6uco"
      },
      "execution_count": 10,
      "outputs": []
    },
    {
      "cell_type": "code",
      "source": [],
      "metadata": {
        "id": "1Iylof2iKu5B"
      },
      "execution_count": 10,
      "outputs": []
    },
    {
      "cell_type": "code",
      "source": [
        "%%R\n",
        "nnet_data <- data.matrix(nnet_data[,'totalLoad'])\n",
        "\n",
        "train_data <- nnet_data[1:30000,]\n",
        "mean <- mean(train_data)\n",
        "std <- sd(train_data)\n",
        "nnet_data <- scale(nnet_data, center = mean, scale = std)"
      ],
      "metadata": {
        "id": "FIudiPV68L6D"
      },
      "execution_count": 11,
      "outputs": []
    },
    {
      "cell_type": "code",
      "source": [
        "%%R\n",
        "generator <- function(data, lookback, delay, min_index, max_index,\n",
        "                      shuffle = FALSE, batch_size = 128, step = 1) {\n",
        "  if (is.null(max_index))\n",
        "    max_index <- nrow(data) - delay - 1\n",
        "  i <- min_index + lookback\n",
        "  function() {\n",
        "    if (shuffle) {\n",
        "      rows <- sample(c((min_index+lookback):max_index), size = batch_size)\n",
        "    } else {\n",
        "      if (i + batch_size >= max_index)\n",
        "        i <<- min_index + lookback\n",
        "      rows <- c(i:min(i+batch_size-1, max_index))\n",
        "      i <<- i + length(rows)\n",
        "    }\n",
        "\n",
        "    samples <- array(0, dim = c(length(rows),\n",
        "                                lookback / step,\n",
        "                                dim(data)[[-1]]))\n",
        "    targets <- array(0, dim = c(length(rows)))\n",
        "                      \n",
        "    for (j in 1:length(rows)) {\n",
        "      indices <- seq(rows[[j]] - lookback, rows[[j]]-1,\n",
        "                     length.out = dim(samples)[[2]])\n",
        "      samples[j,,] <- data[indices,]\n",
        "      targets[[j]] <- data[rows[[j]] + delay,]\n",
        "    }           \n",
        "    list(samples, targets)\n",
        "  }\n",
        "}"
      ],
      "metadata": {
        "id": "VWJgej7g9Rg-"
      },
      "execution_count": 12,
      "outputs": []
    },
    {
      "cell_type": "code",
      "source": [
        "%%R\n",
        "lookback <- 240\n",
        "step <- 1\n",
        "delay <- 24\n",
        "batch_size <- 128\n",
        "\n",
        "train_gen <- generator(\n",
        "  nnet_data,\n",
        "  lookback = lookback,\n",
        "  delay = delay,\n",
        "  min_index = 1,\n",
        "  max_index = 30000,\n",
        "  shuffle = FALSE,\n",
        "  step = step, \n",
        "  batch_size = batch_size\n",
        ")\n",
        "\n",
        "val_gen = generator(\n",
        "  nnet_data,\n",
        "  lookback = lookback,\n",
        "  delay = delay,\n",
        "  min_index = 30001,\n",
        "  max_index = 40000,\n",
        "  step = step,\n",
        "  batch_size = batch_size\n",
        ")\n",
        "\n",
        "test_gen <- generator(\n",
        "  nnet_data,\n",
        "  lookback = lookback,\n",
        "  delay = delay,\n",
        "  min_index = 40001,\n",
        "  max_index = NULL,\n",
        "  step = step,\n",
        "  batch_size = batch_size\n",
        ")\n"
      ],
      "metadata": {
        "id": "knt-iwb79hgZ"
      },
      "execution_count": 13,
      "outputs": []
    },
    {
      "cell_type": "code",
      "source": [
        "%%R\n",
        "# How many steps to draw from val_gen in order to see the entire validation set\n",
        "val_steps <- (40000 - 30001 - lookback) / batch_size\n",
        "\n",
        "# How many steps to draw from test_gen in order to see the entire test set\n",
        "test_steps <- (nrow(nnet_data) - 40001 - lookback) / batch_size"
      ],
      "metadata": {
        "id": "jc7NMMg_-Ghr"
      },
      "execution_count": 14,
      "outputs": []
    },
    {
      "cell_type": "code",
      "source": [
        "%%R\n",
        "evaluate_naive_method <- function() {\n",
        "  batch_maes <- c()\n",
        "  for (step in 1:val_steps) {\n",
        "    c(samples, targets) %<-% val_gen()\n",
        "    preds <- samples[,dim(samples)[[2]],]\n",
        "    mae <- mean(abs(preds - targets))\n",
        "    batch_maes <- c(batch_maes, mae)\n",
        "  }\n",
        "  print(mean(batch_maes))\n",
        "}\n",
        "\n",
        "evaluate_naive_method() "
      ],
      "metadata": {
        "colab": {
          "base_uri": "https://localhost:8080/"
        },
        "id": "7GLYyJI__Pj1",
        "outputId": "f53ea99f-88cf-4e88-b15b-900c59eff092"
      },
      "execution_count": 15,
      "outputs": [
        {
          "output_type": "stream",
          "name": "stdout",
          "text": [
            "[1] 0.5516784\n"
          ]
        }
      ]
    },
    {
      "cell_type": "code",
      "source": [
        "%%R\n",
        "model <- keras_model_sequential() %>% \n",
        "  layer_flatten(input_shape = c(lookback / step, dim(nnet_data)[-1])) %>% \n",
        "  layer_dense(units = 128, activation = \"relu\") %>% \n",
        "  layer_dense(units = 1)\n",
        "\n",
        "model %>% compile(\n",
        "  optimizer = optimizer_rmsprop(),\n",
        "  loss = \"mae\"\n",
        ")\n",
        "\n",
        "history <- model %>% fit_generator(\n",
        "  train_gen,\n",
        "  steps_per_epoch = 500,\n",
        "  epochs = 20,\n",
        "  validation_data = val_gen,\n",
        "  validation_steps = val_steps\n",
        ")"
      ],
      "metadata": {
        "colab": {
          "base_uri": "https://localhost:8080/"
        },
        "id": "KLlByX7hFHK0",
        "outputId": "d190db5b-a28c-47f0-b65a-c87849d1d6e1"
      },
      "execution_count": 16,
      "outputs": [
        {
          "output_type": "stream",
          "name": "stderr",
          "text": [
            "WARNING:rpy2.rinterface_lib.callbacks:R[write to console]: Loaded Tensorflow version 2.8.2\n",
            "\n"
          ]
        },
        {
          "output_type": "stream",
          "name": "stdout",
          "text": [
            "Epoch 1/20\n",
            "  4/500 [..............................] - ETA: 9s - loss: 1.0023  "
          ]
        },
        {
          "output_type": "stream",
          "name": "stderr",
          "text": [
            "WARNING:tensorflow:Callback method `on_train_batch_begin` is slow compared to the batch time (batch time: 0.0025s vs `on_train_batch_begin` time: 0.0157s). Check your callbacks.\n"
          ]
        },
        {
          "output_type": "stream",
          "name": "stdout",
          "text": [
            "500/500 [==============================] - 11s 21ms/step - loss: 0.4136\n",
            "500/500 [==============================] - 14s 27ms/step - loss: 0.4136 - val_loss: 0.6080\n",
            "Epoch 2/20\n",
            "500/500 [==============================] - 10s 21ms/step - loss: 0.3049\n",
            "500/500 [==============================] - 12s 24ms/step - loss: 0.3049 - val_loss: 0.2791\n",
            "Epoch 3/20\n",
            "500/500 [==============================] - 10s 20ms/step - loss: 0.2535\n",
            "500/500 [==============================] - 12s 23ms/step - loss: 0.2535 - val_loss: 0.3509\n",
            "Epoch 4/20\n",
            "500/500 [==============================] - 10s 20ms/step - loss: 0.2284\n",
            "500/500 [==============================] - 11s 23ms/step - loss: 0.2284 - val_loss: 0.3124\n",
            "Epoch 5/20\n",
            "500/500 [==============================] - 10s 20ms/step - loss: 0.2064\n",
            "500/500 [==============================] - 13s 25ms/step - loss: 0.2064 - val_loss: 0.3705\n",
            "Epoch 6/20\n",
            "500/500 [==============================] - 10s 20ms/step - loss: 0.2006\n",
            "500/500 [==============================] - 13s 26ms/step - loss: 0.2006 - val_loss: 0.2706\n",
            "Epoch 7/20\n",
            "500/500 [==============================] - 10s 20ms/step - loss: 0.1932\n",
            "500/500 [==============================] - 12s 23ms/step - loss: 0.1932 - val_loss: 0.3373\n",
            "Epoch 8/20\n",
            "500/500 [==============================] - 10s 20ms/step - loss: 0.1862\n",
            "500/500 [==============================] - 13s 26ms/step - loss: 0.1862 - val_loss: 0.3295\n",
            "Epoch 9/20\n",
            "500/500 [==============================] - 10s 20ms/step - loss: 0.1909\n",
            "500/500 [==============================] - 13s 25ms/step - loss: 0.1909 - val_loss: 0.2997\n",
            "Epoch 10/20\n",
            "500/500 [==============================] - 10s 20ms/step - loss: 0.1840\n",
            "500/500 [==============================] - 12s 23ms/step - loss: 0.1840 - val_loss: 0.2471\n",
            "Epoch 11/20\n",
            "500/500 [==============================] - 10s 21ms/step - loss: 0.1853\n",
            "500/500 [==============================] - 13s 26ms/step - loss: 0.1853 - val_loss: 0.3268\n",
            "Epoch 12/20\n",
            "500/500 [==============================] - 10s 20ms/step - loss: 0.1786\n",
            "500/500 [==============================] - 13s 25ms/step - loss: 0.1786 - val_loss: 0.3513\n",
            "Epoch 13/20\n",
            "500/500 [==============================] - 10s 20ms/step - loss: 0.1819\n",
            "500/500 [==============================] - 12s 23ms/step - loss: 0.1819 - val_loss: 0.2275\n",
            "Epoch 14/20\n",
            "500/500 [==============================] - 10s 20ms/step - loss: 0.1752\n",
            "500/500 [==============================] - 12s 23ms/step - loss: 0.1752 - val_loss: 0.3992\n",
            "Epoch 15/20\n",
            "500/500 [==============================] - 10s 20ms/step - loss: 0.1775\n",
            "500/500 [==============================] - 11s 22ms/step - loss: 0.1775 - val_loss: 0.2139\n",
            "Epoch 16/20\n",
            "500/500 [==============================] - 10s 20ms/step - loss: 0.1742\n",
            "500/500 [==============================] - 12s 23ms/step - loss: 0.1742 - val_loss: 0.3099\n",
            "Epoch 17/20\n",
            "500/500 [==============================] - 10s 21ms/step - loss: 0.1744\n",
            "500/500 [==============================] - 12s 23ms/step - loss: 0.1744 - val_loss: 0.2533\n",
            "Epoch 18/20\n",
            "500/500 [==============================] - 10s 21ms/step - loss: 0.1723\n",
            "500/500 [==============================] - 12s 23ms/step - loss: 0.1723 - val_loss: 0.2633\n",
            "Epoch 19/20\n",
            "500/500 [==============================] - 10s 20ms/step - loss: 0.1727\n",
            "500/500 [==============================] - 12s 23ms/step - loss: 0.1727 - val_loss: 0.3166\n",
            "Epoch 20/20\n",
            "500/500 [==============================] - 10s 20ms/step - loss: 0.1728\n",
            "500/500 [==============================] - 12s 23ms/step - loss: 0.1728 - val_loss: 0.3366\n"
          ]
        }
      ]
    },
    {
      "cell_type": "code",
      "source": [
        "%%R\n",
        "plot(history)"
      ],
      "metadata": {
        "colab": {
          "base_uri": "https://localhost:8080/",
          "height": 497
        },
        "id": "Z31s-p3UHlWM",
        "outputId": "ff21ff0b-b1ca-4826-be7d-2b1b329bb1ef"
      },
      "execution_count": 17,
      "outputs": [
        {
          "output_type": "display_data",
          "data": {
            "image/png": "[encoded data removed]"
          },
          "metadata": {}
        }
      ]
    }
  ]
}